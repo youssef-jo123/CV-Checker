{
 "cells": [
  {
   "cell_type": "code",
   "execution_count": 1,
   "metadata": {},
   "outputs": [],
   "source": [
    "from pyresparser import ResumeParser\n",
    "import os\n",
    "from docx import Document"
   ]
  },
  {
   "cell_type": "code",
   "execution_count": 2,
   "metadata": {},
   "outputs": [],
   "source": [
    "import numpy as np\n",
    "import pandas as pd\n",
    "import nltk\n",
    "from nltk.corpus import stopwords\n",
    "stopw  = set(stopwords.words('english'))\n",
    "df =pd.read_csv('job_final.csv') "
   ]
  },
  {
   "cell_type": "code",
   "execution_count": null,
   "metadata": {},
   "outputs": [],
   "source": [
    "\n"
   ]
  },
  {
   "cell_type": "code",
   "execution_count": 3,
   "metadata": {},
   "outputs": [
    {
     "data": {
      "text/plain": [
       "0       About company: Smart Food Safe Solutions Inc. ...\n",
       "1       Location Bangalore Experience Years Job Descri...\n",
       "2       Open Systems International, Inc. (OSI) www.osi...\n",
       "3       About Job Software Testing Engineer Job Descri...\n",
       "4       Location: Bangalore Experience: 6Years Skills ...\n",
       "                              ...                        \n",
       "1919    Skills Qualifications: Years experience Strong...\n",
       "1920    Job TH10519_13189 Posted on: 29th May, 2019Job...\n",
       "1921    Job Description spend percent lives buildings....\n",
       "1922    (Job Number: 1905027) Job Title â€“ Web Develo...\n",
       "1923    marry design engineering language ways produce...\n",
       "Name: test, Length: 1924, dtype: object"
      ]
     },
     "execution_count": 3,
     "metadata": {},
     "output_type": "execute_result"
    }
   ],
   "source": [
    "df['test']=df['Job_Description'].apply(lambda x: ' '.join([word for word in str(x).split() if len(word)>2 and word not in (stopw)]))\n",
    "df['test']"
   ]
  },
  {
   "cell_type": "code",
   "execution_count": 4,
   "metadata": {},
   "outputs": [
    {
     "data": {
      "text/html": [
       "<div>\n",
       "<style scoped>\n",
       "    .dataframe tbody tr th:only-of-type {\n",
       "        vertical-align: middle;\n",
       "    }\n",
       "\n",
       "    .dataframe tbody tr th {\n",
       "        vertical-align: top;\n",
       "    }\n",
       "\n",
       "    .dataframe thead th {\n",
       "        text-align: right;\n",
       "    }\n",
       "</style>\n",
       "<table border=\"1\" class=\"dataframe\">\n",
       "  <thead>\n",
       "    <tr style=\"text-align: right;\">\n",
       "      <th></th>\n",
       "      <th>Unnamed: 0</th>\n",
       "      <th>url</th>\n",
       "      <th>Position</th>\n",
       "      <th>Company</th>\n",
       "      <th>Location</th>\n",
       "      <th>Job_Description</th>\n",
       "      <th>test</th>\n",
       "    </tr>\n",
       "  </thead>\n",
       "  <tbody>\n",
       "    <tr>\n",
       "      <th>0</th>\n",
       "      <td>0</td>\n",
       "      <td>https://www.glassdoor.co.in/partner/jobListing...</td>\n",
       "      <td>Software Testing Internship</td>\n",
       "      <td>Smart Food Safe Solutions Inc</td>\n",
       "      <td>– Bengaluru</td>\n",
       "      <td>About the company:\\nSmart Food Safe Solutions ...</td>\n",
       "      <td>About company: Smart Food Safe Solutions Inc. ...</td>\n",
       "    </tr>\n",
       "    <tr>\n",
       "      <th>1</th>\n",
       "      <td>1</td>\n",
       "      <td>https://www.glassdoor.co.in/partner/jobListing...</td>\n",
       "      <td>Embedded Software Testing</td>\n",
       "      <td>Mobiveil</td>\n",
       "      <td>– Bengaluru</td>\n",
       "      <td>Location : Bangalore\\nExperience : 4+ Years\\n\\...</td>\n",
       "      <td>Location Bangalore Experience Years Job Descri...</td>\n",
       "    </tr>\n",
       "    <tr>\n",
       "      <th>2</th>\n",
       "      <td>2</td>\n",
       "      <td>https://www.glassdoor.co.in/partner/jobListing...</td>\n",
       "      <td>Senior Engineer - Software Testing (Bangalore ...</td>\n",
       "      <td>Open Systems International</td>\n",
       "      <td>– Bengaluru</td>\n",
       "      <td>Open Systems International, Inc. (OSI) www.osi...</td>\n",
       "      <td>Open Systems International, Inc. (OSI) www.osi...</td>\n",
       "    </tr>\n",
       "    <tr>\n",
       "      <th>3</th>\n",
       "      <td>3</td>\n",
       "      <td>https://www.glassdoor.co.in/partner/jobListing...</td>\n",
       "      <td>Software Testing Engineer</td>\n",
       "      <td>Bloom Solutions</td>\n",
       "      <td>– Bengaluru</td>\n",
       "      <td>About the Job\\n\\nSoftware Testing Engineer\\n\\n...</td>\n",
       "      <td>About Job Software Testing Engineer Job Descri...</td>\n",
       "    </tr>\n",
       "    <tr>\n",
       "      <th>4</th>\n",
       "      <td>4</td>\n",
       "      <td>https://www.glassdoor.co.in/partner/jobListing...</td>\n",
       "      <td>CIEL/SEL/1888: Software testing Engineer</td>\n",
       "      <td>CIEL HR Services</td>\n",
       "      <td>– Bengaluru</td>\n",
       "      <td>Location: Bangalore\\nExperience: 3 to 6Years\\n...</td>\n",
       "      <td>Location: Bangalore Experience: 6Years Skills ...</td>\n",
       "    </tr>\n",
       "    <tr>\n",
       "      <th>...</th>\n",
       "      <td>...</td>\n",
       "      <td>...</td>\n",
       "      <td>...</td>\n",
       "      <td>...</td>\n",
       "      <td>...</td>\n",
       "      <td>...</td>\n",
       "      <td>...</td>\n",
       "    </tr>\n",
       "    <tr>\n",
       "      <th>1919</th>\n",
       "      <td>3113</td>\n",
       "      <td>https://www.glassdoor.co.in/partner/jobListing...</td>\n",
       "      <td>Front End Developer</td>\n",
       "      <td>Cuemath</td>\n",
       "      <td>Bengaluru</td>\n",
       "      <td>Skills and Qualifications:\\n\\n2+ Years of expe...</td>\n",
       "      <td>Skills Qualifications: Years experience Strong...</td>\n",
       "    </tr>\n",
       "    <tr>\n",
       "      <th>1920</th>\n",
       "      <td>3115</td>\n",
       "      <td>https://www.glassdoor.co.in/partner/jobListing...</td>\n",
       "      <td>Technology Lead-Sharepoint Developer</td>\n",
       "      <td>Infogain</td>\n",
       "      <td>Bengaluru</td>\n",
       "      <td>Job ID : TH10519_13189\\n\\nPosted on: 29th of M...</td>\n",
       "      <td>Job TH10519_13189 Posted on: 29th May, 2019Job...</td>\n",
       "    </tr>\n",
       "    <tr>\n",
       "      <th>1921</th>\n",
       "      <td>3120</td>\n",
       "      <td>https://www.glassdoor.co.in/partner/jobListing...</td>\n",
       "      <td>Senior UI Developer</td>\n",
       "      <td>Siemens PLC</td>\n",
       "      <td>Bengaluru</td>\n",
       "      <td>Job Description\\nWe spend 90 percent of\\n\\nour...</td>\n",
       "      <td>Job Description spend percent lives buildings....</td>\n",
       "    </tr>\n",
       "    <tr>\n",
       "      <th>1922</th>\n",
       "      <td>3122</td>\n",
       "      <td>https://www.glassdoor.co.in/partner/jobListing...</td>\n",
       "      <td>Web Developer</td>\n",
       "      <td>Fidelity Investments</td>\n",
       "      <td>Bengaluru</td>\n",
       "      <td>(Job Number: 1905027)\\n\\nJob Title â€“ Web Dev...</td>\n",
       "      <td>(Job Number: 1905027) Job Title â€“ Web Develo...</td>\n",
       "    </tr>\n",
       "    <tr>\n",
       "      <th>1923</th>\n",
       "      <td>3123</td>\n",
       "      <td>https://www.glassdoor.co.in/partner/jobListing...</td>\n",
       "      <td>Front End Developer - (Javascript)</td>\n",
       "      <td>Softvision</td>\n",
       "      <td>Bengaluru</td>\n",
       "      <td>We marry design and engineering language in wa...</td>\n",
       "      <td>marry design engineering language ways produce...</td>\n",
       "    </tr>\n",
       "  </tbody>\n",
       "</table>\n",
       "<p>1924 rows × 7 columns</p>\n",
       "</div>"
      ],
      "text/plain": [
       "      Unnamed: 0                                                url  \\\n",
       "0              0  https://www.glassdoor.co.in/partner/jobListing...   \n",
       "1              1  https://www.glassdoor.co.in/partner/jobListing...   \n",
       "2              2  https://www.glassdoor.co.in/partner/jobListing...   \n",
       "3              3  https://www.glassdoor.co.in/partner/jobListing...   \n",
       "4              4  https://www.glassdoor.co.in/partner/jobListing...   \n",
       "...          ...                                                ...   \n",
       "1919        3113  https://www.glassdoor.co.in/partner/jobListing...   \n",
       "1920        3115  https://www.glassdoor.co.in/partner/jobListing...   \n",
       "1921        3120  https://www.glassdoor.co.in/partner/jobListing...   \n",
       "1922        3122  https://www.glassdoor.co.in/partner/jobListing...   \n",
       "1923        3123  https://www.glassdoor.co.in/partner/jobListing...   \n",
       "\n",
       "                                               Position  \\\n",
       "0                           Software Testing Internship   \n",
       "1                             Embedded Software Testing   \n",
       "2     Senior Engineer - Software Testing (Bangalore ...   \n",
       "3                             Software Testing Engineer   \n",
       "4              CIEL/SEL/1888: Software testing Engineer   \n",
       "...                                                 ...   \n",
       "1919                                Front End Developer   \n",
       "1920               Technology Lead-Sharepoint Developer   \n",
       "1921                                Senior UI Developer   \n",
       "1922                                      Web Developer   \n",
       "1923                 Front End Developer - (Javascript)   \n",
       "\n",
       "                            Company      Location  \\\n",
       "0     Smart Food Safe Solutions Inc   – Bengaluru   \n",
       "1                          Mobiveil   – Bengaluru   \n",
       "2        Open Systems International   – Bengaluru   \n",
       "3                   Bloom Solutions   – Bengaluru   \n",
       "4                  CIEL HR Services   – Bengaluru   \n",
       "...                             ...           ...   \n",
       "1919                        Cuemath     Bengaluru   \n",
       "1920                       Infogain     Bengaluru   \n",
       "1921                    Siemens PLC     Bengaluru   \n",
       "1922           Fidelity Investments     Bengaluru   \n",
       "1923                     Softvision     Bengaluru   \n",
       "\n",
       "                                        Job_Description  \\\n",
       "0     About the company:\\nSmart Food Safe Solutions ...   \n",
       "1     Location : Bangalore\\nExperience : 4+ Years\\n\\...   \n",
       "2     Open Systems International, Inc. (OSI) www.osi...   \n",
       "3     About the Job\\n\\nSoftware Testing Engineer\\n\\n...   \n",
       "4     Location: Bangalore\\nExperience: 3 to 6Years\\n...   \n",
       "...                                                 ...   \n",
       "1919  Skills and Qualifications:\\n\\n2+ Years of expe...   \n",
       "1920  Job ID : TH10519_13189\\n\\nPosted on: 29th of M...   \n",
       "1921  Job Description\\nWe spend 90 percent of\\n\\nour...   \n",
       "1922  (Job Number: 1905027)\\n\\nJob Title â€“ Web Dev...   \n",
       "1923  We marry design and engineering language in wa...   \n",
       "\n",
       "                                                   test  \n",
       "0     About company: Smart Food Safe Solutions Inc. ...  \n",
       "1     Location Bangalore Experience Years Job Descri...  \n",
       "2     Open Systems International, Inc. (OSI) www.osi...  \n",
       "3     About Job Software Testing Engineer Job Descri...  \n",
       "4     Location: Bangalore Experience: 6Years Skills ...  \n",
       "...                                                 ...  \n",
       "1919  Skills Qualifications: Years experience Strong...  \n",
       "1920  Job TH10519_13189 Posted on: 29th May, 2019Job...  \n",
       "1921  Job Description spend percent lives buildings....  \n",
       "1922  (Job Number: 1905027) Job Title â€“ Web Develo...  \n",
       "1923  marry design engineering language ways produce...  \n",
       "\n",
       "[1924 rows x 7 columns]"
      ]
     },
     "execution_count": 4,
     "metadata": {},
     "output_type": "execute_result"
    }
   ],
   "source": [
    "df"
   ]
  },
  {
   "cell_type": "code",
   "execution_count": 5,
   "metadata": {},
   "outputs": [
    {
     "name": "stdout",
     "output_type": "stream",
     "text": [
      "specify the path of the resume (format(.txt, .docx and .pdf))==cv.pdf\n"
     ]
    }
   ],
   "source": [
    "##file format should be in .txt , .docx or .pdf only\n",
    "filed=input('specify the path of the resume (format(.txt, .docx and .pdf))==')\n",
    "\n",
    "try:\n",
    "    doc = Document()\n",
    "    with open(filed, 'r') as file:\n",
    "        doc.add_paragraph(file.read())\n",
    "    doc.save(\"text.docx\")\n",
    "    data1 = ResumeParser('text.docx').get_extracted_data()\n",
    "\n",
    "except:\n",
    "    data1 = ResumeParser(filed).get_extracted_data()\n",
    "    \n",
    "resume=data1['skills']"
   ]
  },
  {
   "cell_type": "code",
   "execution_count": 6,
   "metadata": {},
   "outputs": [
    {
     "name": "stdout",
     "output_type": "stream",
     "text": [
      "['Engineering', 'Pyqt', 'Css', 'Prototype', 'Github', 'C++', 'Coding', 'Machine learning', 'C', 'Python', 'Api', 'Sci', 'Opencv', 'Modeling', 'Training', 'Analysis', 'Statistics', 'Keras', 'Programming', 'Design', 'Chemicals', 'Ui', 'Algorithms', 'Word', 'Database', 'Html', 'Testing']\n"
     ]
    }
   ],
   "source": [
    "print(resume)"
   ]
  },
  {
   "cell_type": "code",
   "execution_count": 7,
   "metadata": {},
   "outputs": [],
   "source": [
    "skills=[]\n",
    "skills.append(' '.join(word for word in resume))"
   ]
  },
  {
   "cell_type": "code",
   "execution_count": 8,
   "metadata": {},
   "outputs": [
    {
     "data": {
      "text/plain": [
       "['Engineering Pyqt Css Prototype Github C++ Coding Machine learning C Python Api Sci Opencv Modeling Training Analysis Statistics Keras Programming Design Chemicals Ui Algorithms Word Database Html Testing']"
      ]
     },
     "execution_count": 8,
     "metadata": {},
     "output_type": "execute_result"
    }
   ],
   "source": [
    "skills"
   ]
  },
  {
   "cell_type": "code",
   "execution_count": null,
   "metadata": {},
   "outputs": [],
   "source": []
  },
  {
   "cell_type": "code",
   "execution_count": 15,
   "metadata": {},
   "outputs": [],
   "source": [
    "import re\n",
    "\n",
    "from ftfy import fix_text\n",
    "\n",
    "def ngrams(string, n=3):\n",
    "    string = fix_text(string) # fix text\n",
    "    string = string.encode(\"ascii\", errors=\"ignore\").decode() #remove non ascii chars\n",
    "    string = string.lower()\n",
    "    chars_to_remove = [\")\",\"(\",\".\",\"|\",\"[\",\"]\",\"{\",\"}\",\"'\"]\n",
    "    rx = '[' + re.escape(''.join(chars_to_remove)) + ']'\n",
    "    string = re.sub(rx, '', string)\n",
    "    string = string.replace('&', 'and')\n",
    "    string = string.replace(',', ' ')\n",
    "    string = string.replace('-', ' ')\n",
    "    string = string.title() # normalise case - capital at start of each word\n",
    "    string = re.sub(' +',' ',string).strip() # get rid of multiple spaces and replace with a single\n",
    "    string = ' '+ string +' ' # pad names for ngrams...\n",
    "    string = re.sub(r'[,-./]|\\sBD',r'', string)\n",
    "    ngrams = zip(*[string[i:] for i in range(n)])\n",
    "    return [''.join(ngram) for ngram in ngrams]\n"
   ]
  },
  {
   "cell_type": "code",
   "execution_count": 24,
   "metadata": {},
   "outputs": [],
   "source": [
    "from sklearn.feature_extraction.text import TfidfVectorizer\n",
    "import re"
   ]
  },
  {
   "cell_type": "code",
   "execution_count": 25,
   "metadata": {
    "scrolled": true
   },
   "outputs": [],
   "source": [
    "vectorizer = TfidfVectorizer(min_df=1, analyzer=ngrams, lowercase=False)\n",
    "tfidf = vectorizer.fit_transform(skills)\n",
    "\n"
   ]
  },
  {
   "cell_type": "code",
   "execution_count": 26,
   "metadata": {},
   "outputs": [],
   "source": [
    "from sklearn.neighbors import NearestNeighbors\n",
    "nbrs = NearestNeighbors(n_neighbors=1, n_jobs=-1).fit(tfidf)\n",
    "test = (df['test'].values.astype('U'))"
   ]
  },
  {
   "cell_type": "code",
   "execution_count": 27,
   "metadata": {},
   "outputs": [],
   "source": [
    "\n",
    "def getNearestN(query):\n",
    "  queryTFIDF_ = vectorizer.transform(query)\n",
    "  distances, indices = nbrs.kneighbors(queryTFIDF_)\n",
    "  return distances, indices\n"
   ]
  },
  {
   "cell_type": "code",
   "execution_count": 28,
   "metadata": {},
   "outputs": [],
   "source": [
    "distances, indices = getNearestN(test)\n",
    "test = list(test) \n",
    "matches = []\n"
   ]
  },
  {
   "cell_type": "code",
   "execution_count": 29,
   "metadata": {},
   "outputs": [],
   "source": [
    "for i,j in enumerate(indices):\n",
    "    dist=round(distances[i][0],2)\n",
    "  \n",
    "    temp = [dist]\n",
    "    matches.append(temp)\n",
    "    \n",
    "matches = pd.DataFrame(matches, columns=['Match confidence'])"
   ]
  },
  {
   "cell_type": "code",
   "execution_count": null,
   "metadata": {},
   "outputs": [],
   "source": [
    "\n",
    "\n"
   ]
  },
  {
   "cell_type": "code",
   "execution_count": 30,
   "metadata": {},
   "outputs": [
    {
     "data": {
      "text/html": [
       "<div>\n",
       "<style scoped>\n",
       "    .dataframe tbody tr th:only-of-type {\n",
       "        vertical-align: middle;\n",
       "    }\n",
       "\n",
       "    .dataframe tbody tr th {\n",
       "        vertical-align: top;\n",
       "    }\n",
       "\n",
       "    .dataframe thead th {\n",
       "        text-align: right;\n",
       "    }\n",
       "</style>\n",
       "<table border=\"1\" class=\"dataframe\">\n",
       "  <thead>\n",
       "    <tr style=\"text-align: right;\">\n",
       "      <th></th>\n",
       "      <th>index</th>\n",
       "      <th>Position</th>\n",
       "      <th>Company</th>\n",
       "      <th>Location</th>\n",
       "    </tr>\n",
       "  </thead>\n",
       "  <tbody>\n",
       "    <tr>\n",
       "      <th>0</th>\n",
       "      <td>373</td>\n",
       "      <td>Assistant Manager - Machine Learning</td>\n",
       "      <td>citius tech</td>\n",
       "      <td>– Mumbai</td>\n",
       "    </tr>\n",
       "    <tr>\n",
       "      <th>1</th>\n",
       "      <td>387</td>\n",
       "      <td>Senior Software Engineer - Data Science</td>\n",
       "      <td>The Straits Network</td>\n",
       "      <td>– Hyderabad</td>\n",
       "    </tr>\n",
       "    <tr>\n",
       "      <th>2</th>\n",
       "      <td>902</td>\n",
       "      <td>Data Scientist</td>\n",
       "      <td>Zinier</td>\n",
       "      <td>Bengaluru</td>\n",
       "    </tr>\n",
       "    <tr>\n",
       "      <th>3</th>\n",
       "      <td>464</td>\n",
       "      <td>Data Scientist , Apple Care Online Support</td>\n",
       "      <td>Apple</td>\n",
       "      <td>– Bengaluru</td>\n",
       "    </tr>\n",
       "    <tr>\n",
       "      <th>4</th>\n",
       "      <td>80</td>\n",
       "      <td>Full-Stack Machine Learning Engineer/Data Scie...</td>\n",
       "      <td>Oracle</td>\n",
       "      <td>– Bengaluru</td>\n",
       "    </tr>\n",
       "    <tr>\n",
       "      <th>5</th>\n",
       "      <td>1113</td>\n",
       "      <td>Digital Industry Solution - Senior Data Scient...</td>\n",
       "      <td>ABB</td>\n",
       "      <td>Bengaluru</td>\n",
       "    </tr>\n",
       "    <tr>\n",
       "      <th>6</th>\n",
       "      <td>662</td>\n",
       "      <td>Data Scientist</td>\n",
       "      <td>â€“ Bengaluru</td>\n",
       "      <td>â€“ Bengaluru</td>\n",
       "    </tr>\n",
       "    <tr>\n",
       "      <th>7</th>\n",
       "      <td>661</td>\n",
       "      <td>Data Scientist</td>\n",
       "      <td>Chase</td>\n",
       "      <td>â€“ Bengaluru</td>\n",
       "    </tr>\n",
       "    <tr>\n",
       "      <th>8</th>\n",
       "      <td>1044</td>\n",
       "      <td>Data Scientist</td>\n",
       "      <td>Walmart Labs</td>\n",
       "      <td>Bengaluru</td>\n",
       "    </tr>\n",
       "    <tr>\n",
       "      <th>9</th>\n",
       "      <td>505</td>\n",
       "      <td>Senior Solution Architect</td>\n",
       "      <td>TCG Digital</td>\n",
       "      <td>– India</td>\n",
       "    </tr>\n",
       "  </tbody>\n",
       "</table>\n",
       "</div>"
      ],
      "text/plain": [
       "   index                                           Position  \\\n",
       "0    373               Assistant Manager - Machine Learning   \n",
       "1    387            Senior Software Engineer - Data Science   \n",
       "2    902                                     Data Scientist   \n",
       "3    464         Data Scientist , Apple Care Online Support   \n",
       "4     80  Full-Stack Machine Learning Engineer/Data Scie...   \n",
       "5   1113  Digital Industry Solution - Senior Data Scient...   \n",
       "6    662                                     Data Scientist   \n",
       "7    661                                     Data Scientist   \n",
       "8   1044                                     Data Scientist   \n",
       "9    505                          Senior Solution Architect   \n",
       "\n",
       "               Company        Location  \n",
       "0          citius tech        – Mumbai  \n",
       "1  The Straits Network     – Hyderabad  \n",
       "2               Zinier       Bengaluru  \n",
       "3                Apple     – Bengaluru  \n",
       "4               Oracle     – Bengaluru  \n",
       "5                  ABB       Bengaluru  \n",
       "6        â€“ Bengaluru   â€“ Bengaluru  \n",
       "7                Chase   â€“ Bengaluru  \n",
       "8         Walmart Labs       Bengaluru  \n",
       "9          TCG Digital         – India  "
      ]
     },
     "execution_count": 30,
     "metadata": {},
     "output_type": "execute_result"
    }
   ],
   "source": [
    "df['match']=matches['Match confidence']\n",
    "df1=df.sort_values('match')\n",
    "df1[['Position', 'Company','Location']].head(10).reset_index()"
   ]
  },
  {
   "cell_type": "code",
   "execution_count": null,
   "metadata": {},
   "outputs": [],
   "source": []
  },
  {
   "cell_type": "code",
   "execution_count": null,
   "metadata": {},
   "outputs": [],
   "source": []
  },
  {
   "cell_type": "code",
   "execution_count": null,
   "metadata": {},
   "outputs": [],
   "source": []
  }
 ],
 "metadata": {
  "kernelspec": {
   "display_name": "Python 3",
   "language": "python",
   "name": "python3"
  },
  "language_info": {
   "codemirror_mode": {
    "name": "ipython",
    "version": 3
   },
   "file_extension": ".py",
   "mimetype": "text/x-python",
   "name": "python",
   "nbconvert_exporter": "python",
   "pygments_lexer": "ipython3",
   "version": "3.8.8"
  }
 },
 "nbformat": 4,
 "nbformat_minor": 4
}
